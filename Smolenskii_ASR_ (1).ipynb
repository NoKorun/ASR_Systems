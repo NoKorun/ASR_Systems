{
  "nbformat": 4,
  "nbformat_minor": 0,
  "metadata": {
    "colab": {
      "provenance": [],
      "gpuType": "T4"
    },
    "kernelspec": {
      "name": "python3",
      "display_name": "Python 3"
    },
    "language_info": {
      "name": "python"
    },
    "accelerator": "GPU"
  },
  "cells": [
    {
      "cell_type": "markdown",
      "source": [
        "Загружаем whisper и моедль"
      ],
      "metadata": {
        "id": "6lQasbbft9Cf"
      }
    },
    {
      "cell_type": "code",
      "execution_count": null,
      "metadata": {
        "colab": {
          "base_uri": "https://localhost:8080/"
        },
        "id": "5vC068qAVxaN",
        "outputId": "7aadf90d-78c7-43fe-b03d-34936977f963"
      },
      "outputs": [
        {
          "output_type": "stream",
          "name": "stdout",
          "text": [
            "  Installing build dependencies ... \u001b[?25l\u001b[?25hdone\n",
            "  Getting requirements to build wheel ... \u001b[?25l\u001b[?25hdone\n",
            "  Preparing metadata (pyproject.toml) ... \u001b[?25l\u001b[?25hdone\n"
          ]
        }
      ],
      "source": [
        "! pip install git+https://github.com/openai/whisper.git -q"
      ]
    },
    {
      "cell_type": "code",
      "source": [
        "import whisper\n",
        "\n",
        "model = whisper.load_model(\"large-v2\")"
      ],
      "metadata": {
        "colab": {
          "base_uri": "https://localhost:8080/"
        },
        "id": "afXLUL6JV97f",
        "outputId": "8b04c4a8-ad78-4334-8c6a-07830274218d"
      },
      "execution_count": null,
      "outputs": [
        {
          "output_type": "stream",
          "name": "stderr",
          "text": [
            "/usr/local/lib/python3.10/dist-packages/whisper/__init__.py:65: UserWarning: /root/.cache/whisper/large-v2.pt exists, but the SHA256 checksum does not match; re-downloading the file\n",
            "  warnings.warn(\n",
            "100%|█████████████████████████████████████| 2.87G/2.87G [00:36<00:00, 84.1MiB/s]\n",
            "/usr/local/lib/python3.10/dist-packages/whisper/__init__.py:146: FutureWarning: You are using `torch.load` with `weights_only=False` (the current default value), which uses the default pickle module implicitly. It is possible to construct malicious pickle data which will execute arbitrary code during unpickling (See https://github.com/pytorch/pytorch/blob/main/SECURITY.md#untrusted-models for more details). In a future release, the default value for `weights_only` will be flipped to `True`. This limits the functions that could be executed during unpickling. Arbitrary objects will no longer be allowed to be loaded via this mode unless they are explicitly allowlisted by the user via `torch.serialization.add_safe_globals`. We recommend you start setting `weights_only=True` for any use case where you don't have full control of the loaded file. Please open an issue on GitHub for any issues related to this experimental feature.\n",
            "  checkpoint = torch.load(fp, map_location=device)\n"
          ]
        }
      ]
    },
    {
      "cell_type": "code",
      "source": [
        "model.device"
      ],
      "metadata": {
        "colab": {
          "base_uri": "https://localhost:8080/"
        },
        "id": "j6E0UDvUWAtu",
        "outputId": "e8cffeef-e889-48a7-9b30-6bbe960aab5d"
      },
      "execution_count": null,
      "outputs": [
        {
          "output_type": "execute_result",
          "data": {
            "text/plain": [
              "device(type='cuda', index=0)"
            ]
          },
          "metadata": {},
          "execution_count": 3
        }
      ]
    },
    {
      "cell_type": "markdown",
      "source": [
        "Скачиваем 5 различных спикеров и подготавливаем по 2 фрагмента речи"
      ],
      "metadata": {
        "id": "LcoAOUyhuBTN"
      }
    },
    {
      "cell_type": "code",
      "source": [
        "!git clone https://github.com/NoKorun/ASR_Systems"
      ],
      "metadata": {
        "colab": {
          "base_uri": "https://localhost:8080/"
        },
        "id": "hhLoRJTpZmzu",
        "outputId": "f3cbe803-697a-4772-b555-4fffbe345a13"
      },
      "execution_count": null,
      "outputs": [
        {
          "output_type": "stream",
          "name": "stdout",
          "text": [
            "fatal: destination path 'ASR_Systems' already exists and is not an empty directory.\n"
          ]
        }
      ]
    },
    {
      "cell_type": "code",
      "source": [
        "! pip install pydub"
      ],
      "metadata": {
        "colab": {
          "base_uri": "https://localhost:8080/"
        },
        "id": "ZhIds9ixuVV1",
        "outputId": "5e8f47d4-7580-417e-d099-394434ebd13f"
      },
      "execution_count": null,
      "outputs": [
        {
          "output_type": "stream",
          "name": "stdout",
          "text": [
            "Requirement already satisfied: pydub in /usr/local/lib/python3.10/dist-packages (0.25.1)\n"
          ]
        }
      ]
    },
    {
      "cell_type": "code",
      "source": [
        "from pydub import AudioSegment\n",
        "import os"
      ],
      "metadata": {
        "id": "AksBhPr1uPKN"
      },
      "execution_count": null,
      "outputs": []
    },
    {
      "cell_type": "code",
      "source": [
        "def make_audio_fragment(audio_name, startMin, startSec, endMin, endSec):\n",
        "  startTime = startMin*60*1000+startSec*1000\n",
        "  endTime = endMin*60*1000+endSec*1000\n",
        "\n",
        "  song = AudioSegment.from_mp3('/content/ASR_Systems/'+audio_name+'.mp3')\n",
        "  extract = song[startTime:endTime]\n",
        "\n",
        "  # Saving\n",
        "  if not os.path.isfile(\"/content/\" + audio_name+'-fragment1.mp3'):\n",
        "    extract.export( audio_name+'-fragment1.mp3', format=\"mp3\")\n",
        "  else:\n",
        "    extract.export( audio_name+'-fragment2.mp3', format=\"mp3\")"
      ],
      "metadata": {
        "id": "rRHnDoS1wYQt"
      },
      "execution_count": null,
      "outputs": []
    },
    {
      "cell_type": "code",
      "source": [
        "def transcribe(audio):\n",
        "\n",
        "    # load audio and pad/trim it to fit 30 seconds\n",
        "    audio = whisper.load_audio(audio)\n",
        "    audio = whisper.pad_or_trim(audio)\n",
        "\n",
        "    # make log-Mel spectrogram and move to the same device as the model\n",
        "    mel = whisper.log_mel_spectrogram(audio).to(model.device)\n",
        "\n",
        "    # detect the spoken language\n",
        "    _, probs = model.detect_language(mel)\n",
        "    print(f\"Detected language: {max(probs, key=probs.get)}\")\n",
        "\n",
        "    # decode the audio\n",
        "    options = whisper.DecodingOptions()\n",
        "    result = whisper.decode(model, mel, options)\n",
        "    return result.text\n"
      ],
      "metadata": {
        "id": "VZdF0qMU2wT9"
      },
      "execution_count": null,
      "outputs": []
    },
    {
      "cell_type": "markdown",
      "source": [
        "# **Что Где Когда**"
      ],
      "metadata": {
        "id": "tGCAOA_IupwW"
      }
    },
    {
      "cell_type": "code",
      "source": [
        "from IPython.display import Audio\n",
        "Audio(\"/content/ASR_Systems/www3.mp3\")"
      ],
      "metadata": {
        "id": "hH55YUIRro-W"
      },
      "execution_count": null,
      "outputs": []
    },
    {
      "cell_type": "code",
      "source": [
        "make_audio_fragment('www3', 0, 5, 0, 19)\n",
        "make_audio_fragment('www3', 3, 10, 3, 29)"
      ],
      "metadata": {
        "id": "p09obs8zxV6W"
      },
      "execution_count": null,
      "outputs": []
    },
    {
      "cell_type": "code",
      "source": [
        "Audio(\"/content/www3-fragment1.mp3\")"
      ],
      "metadata": {
        "id": "APzai4I4yDsO"
      },
      "execution_count": null,
      "outputs": []
    },
    {
      "cell_type": "code",
      "source": [
        "asr_text = transcribe(\"/content/www3-fragment1.mp3\")\n",
        "print(asr_text)"
      ],
      "metadata": {
        "colab": {
          "base_uri": "https://localhost:8080/"
        },
        "id": "NK1m2ax82zmF",
        "outputId": "5b661e92-cd8d-466a-eda2-850a9dd8e515"
      },
      "execution_count": null,
      "outputs": [
        {
          "metadata": {
            "tags": null
          },
          "name": "stdout",
          "output_type": "stream",
          "text": [
            "Detected language: ru\n",
            "Фёдор, Фёдор Доминяев, объясните мне, пожалуйста, вот у вас такие сильные игроки, и вы всё время топчетесь в минуте на одном месте. Вы никуда не сдвигаетесь. Почему это происходит? Не знаю. Знали бы, не топтались бы.\n"
          ]
        }
      ]
    },
    {
      "cell_type": "markdown",
      "source": [
        "Оригинальная транскрипция:\n",
        "\n",
        "Фёдор, Фёдор Д***винятин***, объясните мне, пожалуйста, вот у вас такие сильные игроки, и вы всё время топчетесь в минуте на одном месте. Вы никуда не сдвигаетесь. Почему это происходит? Не знаю. Знали бы, не топтались бы.\n"
      ],
      "metadata": {
        "id": "tm00gTAn8IO2"
      }
    },
    {
      "cell_type": "markdown",
      "source": [
        "Считаем Word Error Rate и Character Error Rate.\n",
        "\n",
        "\n",
        "---\n",
        "\n",
        "\n",
        "\n",
        "Word Error Rate = (S + D + I) / N, где\n",
        "\n",
        "Есть некоторые опечатки, которые заменяются - S.\n",
        "\n",
        "Иногда система вставляет слова, которые не были сказаны - I.\n",
        "\n",
        "А некоторые слова удаляются, то есть вообще не воспринимаются - D.\n",
        "\n",
        "N - количество слов в тексте.\n",
        "\n",
        "\n",
        "\n",
        "---\n",
        "\n",
        "\n",
        "Character Error Rate - то же самое, но уже с буквами."
      ],
      "metadata": {
        "id": "0j7Yh5v79Mr_"
      }
    },
    {
      "cell_type": "markdown",
      "source": [
        "В нашем случае\n",
        "\n",
        "WER = (1+0+0)/36 = 0.028\n",
        "\n",
        "CER = (7 + 0 + 0)/170 = 0.041"
      ],
      "metadata": {
        "id": "JzPNoFy_-WVl"
      }
    },
    {
      "cell_type": "code",
      "source": [
        "Audio(\"/content/www3-fragment2.mp3\")"
      ],
      "metadata": {
        "id": "cVXgpe0gyH1n"
      },
      "execution_count": null,
      "outputs": []
    },
    {
      "cell_type": "code",
      "source": [
        "asr_text = transcribe(\"/content/www3-fragment2.mp3\")\n",
        "print(asr_text)"
      ],
      "metadata": {
        "colab": {
          "base_uri": "https://localhost:8080/"
        },
        "id": "lXJ1snI_3BCd",
        "outputId": "5c5acb91-46e7-4cf8-cd6b-0c64ce5ff9a3"
      },
      "execution_count": null,
      "outputs": [
        {
          "metadata": {
            "tags": null
          },
          "name": "stdout",
          "output_type": "stream",
          "text": [
            "Detected language: ru\n",
            "знать русский. Название этих трёх предметов в русском языке оканчивается на «со». Вот просо, вот мясо, вот колесо. Покажите колесо. Вот колесо, самое настоящее. А в чёрном ящике, очевидно, принадлежности для игры в «серсо». Ещё одно слово, которое заканчивается в русском языке на «со».\n"
          ]
        }
      ]
    },
    {
      "cell_type": "markdown",
      "source": [
        "Оригинальная транскрипция:\n",
        "\n",
        "Знать русский. Название этих трёх предметов в русском языке оканчивается на «со». Вот просо, вот мясо, вот колесо. Покажите колесо. Вот колесо, самое настоящее. А в чёрном ящике, очевидно, принадлежности для игры в «серсо». Ещё одно слово, которое заканчивается в русском языке на «со»."
      ],
      "metadata": {
        "id": "J2O56nvf_iHm"
      }
    },
    {
      "cell_type": "markdown",
      "source": [
        "WER = (0)/44 = 0\n",
        "\n",
        "CER = (0)/224 = 0"
      ],
      "metadata": {
        "id": "ZJ4infnB_wr4"
      }
    },
    {
      "cell_type": "markdown",
      "source": [
        "# **Коллапс**"
      ],
      "metadata": {
        "id": "y4yKvW3zydoF"
      }
    },
    {
      "cell_type": "code",
      "source": [
        "Audio(\"/content/ASR_Systems/collapse.mp3\")"
      ],
      "metadata": {
        "id": "ZXntc__NrsWN"
      },
      "execution_count": null,
      "outputs": []
    },
    {
      "cell_type": "code",
      "source": [
        "make_audio_fragment('collapse', 0, 9, 0, 22)\n",
        "make_audio_fragment('collapse', 0, 49, 1, 7)"
      ],
      "metadata": {
        "id": "RFGIt0Ztynm9"
      },
      "execution_count": null,
      "outputs": []
    },
    {
      "cell_type": "code",
      "source": [
        "Audio(\"/content/collapse-fragment1.mp3\")"
      ],
      "metadata": {
        "id": "89aOvT70zBpV"
      },
      "execution_count": null,
      "outputs": []
    },
    {
      "cell_type": "code",
      "source": [
        "asr_text = transcribe(\"/content/collapse-fragment1.mp3\")\n",
        "print(asr_text)"
      ],
      "metadata": {
        "colab": {
          "base_uri": "https://localhost:8080/"
        },
        "id": "vgIeAP1X68t2",
        "outputId": "08cd29bb-b17d-46ca-f158-e74363a880fc"
      },
      "execution_count": null,
      "outputs": [
        {
          "output_type": "stream",
          "name": "stdout",
          "text": [
            "Detected language: ru\n",
            "от Тимирязевской ехал до Новодачной, а я где-то сидел рядом и слушал, он без конца трезвонил по телефону на весь вагон.\n"
          ]
        }
      ]
    },
    {
      "cell_type": "markdown",
      "source": [
        "Оригинальная транскрипция:\n",
        "\n",
        "От Тимирязевской ехал до Новодачной, а я где-то сидел рядом и слушал, он без конца трезвонил по телефону на весь вагон."
      ],
      "metadata": {
        "id": "BvaGivntAV2G"
      }
    },
    {
      "cell_type": "markdown",
      "source": [
        "WER = (0)/21 = 0\n",
        "\n",
        "CER = (0)/95 = 0"
      ],
      "metadata": {
        "id": "JGXss0mQAbP3"
      }
    },
    {
      "cell_type": "markdown",
      "source": [],
      "metadata": {
        "id": "7qYBtX5OALXG"
      }
    },
    {
      "cell_type": "code",
      "source": [
        "Audio(\"/content/collapse-fragment2.mp3\")"
      ],
      "metadata": {
        "id": "87mRkevmzLLN"
      },
      "execution_count": null,
      "outputs": []
    },
    {
      "cell_type": "code",
      "source": [
        "asr_text = transcribe(\"/content/collapse-fragment2.mp3\")\n",
        "print(asr_text)"
      ],
      "metadata": {
        "colab": {
          "base_uri": "https://localhost:8080/"
        },
        "id": "76kB3_Bc69XW",
        "outputId": "119feb27-ccfa-4438-9140-a09f118b6944"
      },
      "execution_count": null,
      "outputs": [
        {
          "output_type": "stream",
          "name": "stdout",
          "text": [
            "Detected language: ru\n",
            "у него был коллапс. Вот это слово коллапс он произносил вот так вот изысканно, что весь вагон аж... коллапс! Новое слово!\n"
          ]
        }
      ]
    },
    {
      "cell_type": "markdown",
      "source": [
        "Оригинальная транскрипция:\n",
        "\n",
        "У него был коллапс. Вот это слово коллапс он произносил вот так вот изысканно, что весь вагон аж ***ах***! коллапс! Новое слово!"
      ],
      "metadata": {
        "id": "DOi09VMOAihO"
      }
    },
    {
      "cell_type": "markdown",
      "source": [
        "WER = (1)/22 = 0.046\n",
        "\n",
        "CER = (2)/96 = 0.021"
      ],
      "metadata": {
        "id": "ou-cfIEQAtGL"
      }
    },
    {
      "cell_type": "markdown",
      "source": [
        "# **Пантеон**"
      ],
      "metadata": {
        "id": "ffMO7i_mzStG"
      }
    },
    {
      "cell_type": "code",
      "source": [
        "Audio(\"/content/ASR_Systems/pantheon.mp3\")"
      ],
      "metadata": {
        "id": "HWwC6c7vsatW"
      },
      "execution_count": null,
      "outputs": []
    },
    {
      "cell_type": "code",
      "source": [
        "make_audio_fragment('pantheon', 0, 36, 0, 53)\n",
        "make_audio_fragment('pantheon', 1, 38, 1, 53)"
      ],
      "metadata": {
        "id": "OoXCrKXuzosu"
      },
      "execution_count": null,
      "outputs": []
    },
    {
      "cell_type": "code",
      "source": [
        "Audio(\"/content/pantheon-fragment1.mp3\")"
      ],
      "metadata": {
        "id": "B0bx7acN0hZN"
      },
      "execution_count": null,
      "outputs": []
    },
    {
      "cell_type": "code",
      "source": [
        "asr_text = transcribe(\"/content/pantheon-fragment1.mp3\")\n",
        "print(asr_text)"
      ],
      "metadata": {
        "colab": {
          "base_uri": "https://localhost:8080/"
        },
        "id": "DhmUE7Oz7Fv1",
        "outputId": "08ed410a-ef8d-4b9c-9ec3-687946138917"
      },
      "execution_count": null,
      "outputs": [
        {
          "output_type": "stream",
          "name": "stdout",
          "text": [
            "Detected language: ru\n",
            "Я буду сражаться, пока не рухну на колени, пока скользкое от крови копье не выпадет из рук. Но и тогда вам не одолеть меня. Я плюну вам в лицо.\n"
          ]
        }
      ]
    },
    {
      "cell_type": "markdown",
      "source": [
        "Оригинальная транскрипция:\n",
        "\n",
        "Я буду сражаться, пока не рухну на колени, пока скользкое от крови копье не выпадет из рук. Но и тогда вам не одолеть меня. Я плюну вам в лицо."
      ],
      "metadata": {
        "id": "QItRFbMsBUsO"
      }
    },
    {
      "cell_type": "markdown",
      "source": [
        "WER = (0)/29 = 0\n",
        "\n",
        "CER = (0)/110 = 0"
      ],
      "metadata": {
        "id": "XboT73CXBfHG"
      }
    },
    {
      "cell_type": "code",
      "source": [
        "Audio(\"/content/pantheon-fragment2.mp3\")"
      ],
      "metadata": {
        "id": "LUbxvyow0heV"
      },
      "execution_count": null,
      "outputs": []
    },
    {
      "cell_type": "code",
      "source": [
        "asr_text = transcribe(\"/content/pantheon-fragment2.mp3\")\n",
        "print(asr_text)"
      ],
      "metadata": {
        "colab": {
          "base_uri": "https://localhost:8080/"
        },
        "id": "fie9AZcP7GWv",
        "outputId": "237f18a0-7693-4075-e9c4-1146c78318d6"
      },
      "execution_count": null,
      "outputs": [
        {
          "output_type": "stream",
          "name": "stdout",
          "text": [
            "Detected language: ru\n",
            "Гора, на которую нужно взойти, не всегда высока. Это даже не всегда гора. Когда мы вдыхаем, мы должны помнить, что пьем предсмертные вздохи погибших до нас.\n"
          ]
        }
      ]
    },
    {
      "cell_type": "markdown",
      "source": [
        "Оригинальная транскрипция:\n",
        "\n",
        "Гора, на которую нужно взойти, не всегда высока. Это даже не всегда гора. Когда мы вдыхаем, мы должны помнить, что пьем предсмертные вздохи погибших до нас."
      ],
      "metadata": {
        "id": "5RQpl-EiByaW"
      }
    },
    {
      "cell_type": "markdown",
      "source": [
        "WER = (0)/26 = 0\n",
        "\n",
        "CER = (0)/124 = 0"
      ],
      "metadata": {
        "id": "lkfwtfg0B6Ov"
      }
    },
    {
      "cell_type": "markdown",
      "source": [
        "# **Брежнев**"
      ],
      "metadata": {
        "id": "CLcf0j7d00LV"
      }
    },
    {
      "cell_type": "code",
      "source": [
        "Audio(\"/content/ASR_Systems/brezhnev.mp3\")"
      ],
      "metadata": {
        "id": "ZEwNG3Bfsa1V"
      },
      "execution_count": null,
      "outputs": []
    },
    {
      "cell_type": "code",
      "source": [
        "make_audio_fragment('brezhnev', 0, 14, 0, 31)\n",
        "make_audio_fragment('brezhnev', 1, 2, 1, 22)"
      ],
      "metadata": {
        "id": "4rQKBmpy08je"
      },
      "execution_count": null,
      "outputs": []
    },
    {
      "cell_type": "code",
      "source": [
        "Audio(\"/content/brezhnev-fragment1.mp3\")"
      ],
      "metadata": {
        "id": "8c9Wnajn0-iN"
      },
      "execution_count": null,
      "outputs": []
    },
    {
      "cell_type": "code",
      "source": [
        "asr_text = transcribe(\"/content/brezhnev-fragment1.mp3\")\n",
        "print(asr_text)"
      ],
      "metadata": {
        "colab": {
          "base_uri": "https://localhost:8080/"
        },
        "id": "gRNcrGNw7Nun",
        "outputId": "2d160279-7e8e-4a6c-e642-333d40759b0e"
      },
      "execution_count": null,
      "outputs": [
        {
          "output_type": "stream",
          "name": "stdout",
          "text": [
            "Detected language: ru\n",
            "Дорогие друзья, солдаты и матросы, сержанты и старшины, мичмены и немичмены,\n"
          ]
        }
      ]
    },
    {
      "cell_type": "markdown",
      "source": [
        "Оригинальная транскрипция:\n",
        "\n",
        "Дорогие друзья, солдаты и матросы, сержанты и старшины, мичм***е***ны и немичм***е***ны"
      ],
      "metadata": {
        "id": "cfYrWm2nB-Iu"
      }
    },
    {
      "cell_type": "markdown",
      "source": [
        "WER = (0)/11 = 0\n",
        "\n",
        "CER = (2)/62 = 0.032"
      ],
      "metadata": {
        "id": "nRUcgWXRCIdn"
      }
    },
    {
      "cell_type": "code",
      "source": [
        "Audio(\"/content/brezhnev-fragment2.mp3\")"
      ],
      "metadata": {
        "id": "PiwGtnHs0-kd"
      },
      "execution_count": null,
      "outputs": []
    },
    {
      "cell_type": "code",
      "source": [
        "asr_text = transcribe(\"/content/brezhnev-fragment2.mp3\")\n",
        "print(asr_text)"
      ],
      "metadata": {
        "colab": {
          "base_uri": "https://localhost:8080/"
        },
        "id": "arMz697A7OPW",
        "outputId": "a01bbecd-4db2-478e-bd30-a8aef998d174"
      },
      "execution_count": null,
      "outputs": [
        {
          "output_type": "stream",
          "name": "stdout",
          "text": [
            "Detected language: ru\n",
            "пожелать всему личному составу наших вооруженных сил счастья, крепкого здоровья, больших успехов в боевой и политической подготовке системы ассиста.\n"
          ]
        }
      ]
    },
    {
      "cell_type": "markdown",
      "source": [
        "Оригинальная транскрипция:\n",
        "\n",
        "Пожелать всему личному составу наших вооруженных сил счастья, крепкого здоровья, больших успехов в боевой и политической подготовке систем***атически***."
      ],
      "metadata": {
        "id": "xVFYxrwxCXA9"
      }
    },
    {
      "cell_type": "markdown",
      "source": [
        "WER = (1)/18 = 0.056\n",
        "\n",
        "CER = (8)/127 = 0.063"
      ],
      "metadata": {
        "id": "61yvBaYwCjR3"
      }
    },
    {
      "cell_type": "markdown",
      "source": [
        "# **Афордабл**"
      ],
      "metadata": {
        "id": "56NsAyQ605FN"
      }
    },
    {
      "cell_type": "code",
      "source": [
        "Audio(\"/content/ASR_Systems/affordable.mp3\")"
      ],
      "metadata": {
        "id": "A4AqfFScsa_V"
      },
      "execution_count": null,
      "outputs": []
    },
    {
      "cell_type": "code",
      "source": [
        "make_audio_fragment('affordable', 0, 17, 0, 29)\n",
        "make_audio_fragment('affordable', 2, 29, 2, 47)"
      ],
      "metadata": {
        "id": "MsGGCDkH1cKN"
      },
      "execution_count": null,
      "outputs": []
    },
    {
      "cell_type": "code",
      "source": [
        "Audio(\"/content/affordable-fragment1.mp3\")"
      ],
      "metadata": {
        "id": "wa05t6K11cM9"
      },
      "execution_count": null,
      "outputs": []
    },
    {
      "cell_type": "code",
      "source": [
        "asr_text = transcribe(\"/content/affordable-fragment1.mp3\")\n",
        "print(asr_text)"
      ],
      "metadata": {
        "colab": {
          "base_uri": "https://localhost:8080/"
        },
        "id": "A64gBgK47ueO",
        "outputId": "8df37f13-3bf2-4fd9-e05b-254c59a84e2f"
      },
      "execution_count": null,
      "outputs": [
        {
          "output_type": "stream",
          "name": "stdout",
          "text": [
            "Detected language: ru\n",
            "Во-первых, он великолепный человек. Его дизайн могут носить любого возраста, любого шейпа, размера, высоты. И он timeless.\n"
          ]
        }
      ]
    },
    {
      "cell_type": "markdown",
      "source": [
        "Оригинальная транскрипция:\n",
        "\n",
        "Во-первых, он великолепный человек. Его дизайн***с*** могут носить любого возраста, любого шейп, ***сайз***, ***хайт***. И он timeless."
      ],
      "metadata": {
        "id": "j24aApYZDLHO"
      }
    },
    {
      "cell_type": "markdown",
      "source": [
        "WER = (3)/17 = 0.176\n",
        "\n",
        "CER = (14)/93 = 0.151"
      ],
      "metadata": {
        "id": "6det-YDgDj8_"
      }
    },
    {
      "cell_type": "code",
      "source": [
        "Audio(\"/content/affordable-fragment2.mp3\")"
      ],
      "metadata": {
        "id": "HDWHhgU91iLW"
      },
      "execution_count": null,
      "outputs": []
    },
    {
      "cell_type": "code",
      "source": [
        "asr_text = transcribe(\"/content/affordable-fragment2.mp3\")\n",
        "print(asr_text)"
      ],
      "metadata": {
        "colab": {
          "base_uri": "https://localhost:8080/"
        },
        "id": "FCVcYTeE7vF-",
        "outputId": "719eb0e2-e9c1-4d8e-961b-00f6b58d16b8"
      },
      "execution_count": null,
      "outputs": [
        {
          "output_type": "stream",
          "name": "stdout",
          "text": [
            "Detected language: ru\n",
            "Красивые цвета, все цвета, что есть, модные. Красный, черный, hot pink, apple green, citrus orange, mango colors, шелк очень модный. Очень модные пиджаки с какими-то details.\n"
          ]
        }
      ]
    },
    {
      "cell_type": "markdown",
      "source": [
        "Оригинальная транскрипция:\n",
        "\n",
        "Красивые цвета, все цвета, что есть, модные. Красный, черный, hot pink, apple green, citrus orange, mango colors, шелк очень модный. Очень модные пиджаки с какими-то details."
      ],
      "metadata": {
        "id": "Fvz69W5hDMTm"
      }
    },
    {
      "cell_type": "markdown",
      "source": [
        "WER = (0)/26 = 0\n",
        "\n",
        "CER = (0)/136 = 0"
      ],
      "metadata": {
        "id": "S8639i0FD4aO"
      }
    },
    {
      "cell_type": "markdown",
      "source": [
        "Итоговые результаты"
      ],
      "metadata": {
        "id": "Lrc2O606EPpW"
      }
    },
    {
      "cell_type": "code",
      "source": [
        "import pandas as pd\n",
        "import numpy as np\n",
        "\n",
        "df = pd.DataFrame({'Metric': [\"WER1\", \"CER1\", \"WER2\", \"CER2\"],\n",
        "                   'ChKG': [0.028, 0.041, 0, 0],\n",
        "                   'Collapse' : [0, 0, 0.046, 0.021],\n",
        "                   'Pantheon': [0, 0, 0, 0],\n",
        "                   'Brezhnev': [0, 0.032, 0.056, 0.063],\n",
        "                   'Affordable': [0.176, 0.151, 0, 0]})\n",
        "\n",
        "df"
      ],
      "metadata": {
        "colab": {
          "base_uri": "https://localhost:8080/",
          "height": 175
        },
        "id": "55TtT10Q2mEN",
        "outputId": "15828a80-7132-4d0a-bcf1-fd0ff8317c90"
      },
      "execution_count": null,
      "outputs": [
        {
          "output_type": "execute_result",
          "data": {
            "text/plain": [
              "  Metric   ChKG  Collapse  Pantheon  Brezhnev  Affordable\n",
              "0   WER1  0.028     0.000         0     0.000       0.176\n",
              "1   CER1  0.041     0.000         0     0.032       0.151\n",
              "2   WER2  0.000     0.046         0     0.056       0.000\n",
              "3   CER2  0.000     0.021         0     0.063       0.000"
            ],
            "text/html": [
              "\n",
              "  <div id=\"df-d43419d8-5c21-422c-ad38-3192c1f1e011\" class=\"colab-df-container\">\n",
              "    <div>\n",
              "<style scoped>\n",
              "    .dataframe tbody tr th:only-of-type {\n",
              "        vertical-align: middle;\n",
              "    }\n",
              "\n",
              "    .dataframe tbody tr th {\n",
              "        vertical-align: top;\n",
              "    }\n",
              "\n",
              "    .dataframe thead th {\n",
              "        text-align: right;\n",
              "    }\n",
              "</style>\n",
              "<table border=\"1\" class=\"dataframe\">\n",
              "  <thead>\n",
              "    <tr style=\"text-align: right;\">\n",
              "      <th></th>\n",
              "      <th>Metric</th>\n",
              "      <th>ChKG</th>\n",
              "      <th>Collapse</th>\n",
              "      <th>Pantheon</th>\n",
              "      <th>Brezhnev</th>\n",
              "      <th>Affordable</th>\n",
              "    </tr>\n",
              "  </thead>\n",
              "  <tbody>\n",
              "    <tr>\n",
              "      <th>0</th>\n",
              "      <td>WER1</td>\n",
              "      <td>0.028</td>\n",
              "      <td>0.000</td>\n",
              "      <td>0</td>\n",
              "      <td>0.000</td>\n",
              "      <td>0.176</td>\n",
              "    </tr>\n",
              "    <tr>\n",
              "      <th>1</th>\n",
              "      <td>CER1</td>\n",
              "      <td>0.041</td>\n",
              "      <td>0.000</td>\n",
              "      <td>0</td>\n",
              "      <td>0.032</td>\n",
              "      <td>0.151</td>\n",
              "    </tr>\n",
              "    <tr>\n",
              "      <th>2</th>\n",
              "      <td>WER2</td>\n",
              "      <td>0.000</td>\n",
              "      <td>0.046</td>\n",
              "      <td>0</td>\n",
              "      <td>0.056</td>\n",
              "      <td>0.000</td>\n",
              "    </tr>\n",
              "    <tr>\n",
              "      <th>3</th>\n",
              "      <td>CER2</td>\n",
              "      <td>0.000</td>\n",
              "      <td>0.021</td>\n",
              "      <td>0</td>\n",
              "      <td>0.063</td>\n",
              "      <td>0.000</td>\n",
              "    </tr>\n",
              "  </tbody>\n",
              "</table>\n",
              "</div>\n",
              "    <div class=\"colab-df-buttons\">\n",
              "\n",
              "  <div class=\"colab-df-container\">\n",
              "    <button class=\"colab-df-convert\" onclick=\"convertToInteractive('df-d43419d8-5c21-422c-ad38-3192c1f1e011')\"\n",
              "            title=\"Convert this dataframe to an interactive table.\"\n",
              "            style=\"display:none;\">\n",
              "\n",
              "  <svg xmlns=\"http://www.w3.org/2000/svg\" height=\"24px\" viewBox=\"0 -960 960 960\">\n",
              "    <path d=\"M120-120v-720h720v720H120Zm60-500h600v-160H180v160Zm220 220h160v-160H400v160Zm0 220h160v-160H400v160ZM180-400h160v-160H180v160Zm440 0h160v-160H620v160ZM180-180h160v-160H180v160Zm440 0h160v-160H620v160Z\"/>\n",
              "  </svg>\n",
              "    </button>\n",
              "\n",
              "  <style>\n",
              "    .colab-df-container {\n",
              "      display:flex;\n",
              "      gap: 12px;\n",
              "    }\n",
              "\n",
              "    .colab-df-convert {\n",
              "      background-color: #E8F0FE;\n",
              "      border: none;\n",
              "      border-radius: 50%;\n",
              "      cursor: pointer;\n",
              "      display: none;\n",
              "      fill: #1967D2;\n",
              "      height: 32px;\n",
              "      padding: 0 0 0 0;\n",
              "      width: 32px;\n",
              "    }\n",
              "\n",
              "    .colab-df-convert:hover {\n",
              "      background-color: #E2EBFA;\n",
              "      box-shadow: 0px 1px 2px rgba(60, 64, 67, 0.3), 0px 1px 3px 1px rgba(60, 64, 67, 0.15);\n",
              "      fill: #174EA6;\n",
              "    }\n",
              "\n",
              "    .colab-df-buttons div {\n",
              "      margin-bottom: 4px;\n",
              "    }\n",
              "\n",
              "    [theme=dark] .colab-df-convert {\n",
              "      background-color: #3B4455;\n",
              "      fill: #D2E3FC;\n",
              "    }\n",
              "\n",
              "    [theme=dark] .colab-df-convert:hover {\n",
              "      background-color: #434B5C;\n",
              "      box-shadow: 0px 1px 3px 1px rgba(0, 0, 0, 0.15);\n",
              "      filter: drop-shadow(0px 1px 2px rgba(0, 0, 0, 0.3));\n",
              "      fill: #FFFFFF;\n",
              "    }\n",
              "  </style>\n",
              "\n",
              "    <script>\n",
              "      const buttonEl =\n",
              "        document.querySelector('#df-d43419d8-5c21-422c-ad38-3192c1f1e011 button.colab-df-convert');\n",
              "      buttonEl.style.display =\n",
              "        google.colab.kernel.accessAllowed ? 'block' : 'none';\n",
              "\n",
              "      async function convertToInteractive(key) {\n",
              "        const element = document.querySelector('#df-d43419d8-5c21-422c-ad38-3192c1f1e011');\n",
              "        const dataTable =\n",
              "          await google.colab.kernel.invokeFunction('convertToInteractive',\n",
              "                                                    [key], {});\n",
              "        if (!dataTable) return;\n",
              "\n",
              "        const docLinkHtml = 'Like what you see? Visit the ' +\n",
              "          '<a target=\"_blank\" href=https://colab.research.google.com/notebooks/data_table.ipynb>data table notebook</a>'\n",
              "          + ' to learn more about interactive tables.';\n",
              "        element.innerHTML = '';\n",
              "        dataTable['output_type'] = 'display_data';\n",
              "        await google.colab.output.renderOutput(dataTable, element);\n",
              "        const docLink = document.createElement('div');\n",
              "        docLink.innerHTML = docLinkHtml;\n",
              "        element.appendChild(docLink);\n",
              "      }\n",
              "    </script>\n",
              "  </div>\n",
              "\n",
              "\n",
              "<div id=\"df-867f93b2-cdb0-4cb1-a3a7-478f6e4864f7\">\n",
              "  <button class=\"colab-df-quickchart\" onclick=\"quickchart('df-867f93b2-cdb0-4cb1-a3a7-478f6e4864f7')\"\n",
              "            title=\"Suggest charts\"\n",
              "            style=\"display:none;\">\n",
              "\n",
              "<svg xmlns=\"http://www.w3.org/2000/svg\" height=\"24px\"viewBox=\"0 0 24 24\"\n",
              "     width=\"24px\">\n",
              "    <g>\n",
              "        <path d=\"M19 3H5c-1.1 0-2 .9-2 2v14c0 1.1.9 2 2 2h14c1.1 0 2-.9 2-2V5c0-1.1-.9-2-2-2zM9 17H7v-7h2v7zm4 0h-2V7h2v10zm4 0h-2v-4h2v4z\"/>\n",
              "    </g>\n",
              "</svg>\n",
              "  </button>\n",
              "\n",
              "<style>\n",
              "  .colab-df-quickchart {\n",
              "      --bg-color: #E8F0FE;\n",
              "      --fill-color: #1967D2;\n",
              "      --hover-bg-color: #E2EBFA;\n",
              "      --hover-fill-color: #174EA6;\n",
              "      --disabled-fill-color: #AAA;\n",
              "      --disabled-bg-color: #DDD;\n",
              "  }\n",
              "\n",
              "  [theme=dark] .colab-df-quickchart {\n",
              "      --bg-color: #3B4455;\n",
              "      --fill-color: #D2E3FC;\n",
              "      --hover-bg-color: #434B5C;\n",
              "      --hover-fill-color: #FFFFFF;\n",
              "      --disabled-bg-color: #3B4455;\n",
              "      --disabled-fill-color: #666;\n",
              "  }\n",
              "\n",
              "  .colab-df-quickchart {\n",
              "    background-color: var(--bg-color);\n",
              "    border: none;\n",
              "    border-radius: 50%;\n",
              "    cursor: pointer;\n",
              "    display: none;\n",
              "    fill: var(--fill-color);\n",
              "    height: 32px;\n",
              "    padding: 0;\n",
              "    width: 32px;\n",
              "  }\n",
              "\n",
              "  .colab-df-quickchart:hover {\n",
              "    background-color: var(--hover-bg-color);\n",
              "    box-shadow: 0 1px 2px rgba(60, 64, 67, 0.3), 0 1px 3px 1px rgba(60, 64, 67, 0.15);\n",
              "    fill: var(--button-hover-fill-color);\n",
              "  }\n",
              "\n",
              "  .colab-df-quickchart-complete:disabled,\n",
              "  .colab-df-quickchart-complete:disabled:hover {\n",
              "    background-color: var(--disabled-bg-color);\n",
              "    fill: var(--disabled-fill-color);\n",
              "    box-shadow: none;\n",
              "  }\n",
              "\n",
              "  .colab-df-spinner {\n",
              "    border: 2px solid var(--fill-color);\n",
              "    border-color: transparent;\n",
              "    border-bottom-color: var(--fill-color);\n",
              "    animation:\n",
              "      spin 1s steps(1) infinite;\n",
              "  }\n",
              "\n",
              "  @keyframes spin {\n",
              "    0% {\n",
              "      border-color: transparent;\n",
              "      border-bottom-color: var(--fill-color);\n",
              "      border-left-color: var(--fill-color);\n",
              "    }\n",
              "    20% {\n",
              "      border-color: transparent;\n",
              "      border-left-color: var(--fill-color);\n",
              "      border-top-color: var(--fill-color);\n",
              "    }\n",
              "    30% {\n",
              "      border-color: transparent;\n",
              "      border-left-color: var(--fill-color);\n",
              "      border-top-color: var(--fill-color);\n",
              "      border-right-color: var(--fill-color);\n",
              "    }\n",
              "    40% {\n",
              "      border-color: transparent;\n",
              "      border-right-color: var(--fill-color);\n",
              "      border-top-color: var(--fill-color);\n",
              "    }\n",
              "    60% {\n",
              "      border-color: transparent;\n",
              "      border-right-color: var(--fill-color);\n",
              "    }\n",
              "    80% {\n",
              "      border-color: transparent;\n",
              "      border-right-color: var(--fill-color);\n",
              "      border-bottom-color: var(--fill-color);\n",
              "    }\n",
              "    90% {\n",
              "      border-color: transparent;\n",
              "      border-bottom-color: var(--fill-color);\n",
              "    }\n",
              "  }\n",
              "</style>\n",
              "\n",
              "  <script>\n",
              "    async function quickchart(key) {\n",
              "      const quickchartButtonEl =\n",
              "        document.querySelector('#' + key + ' button');\n",
              "      quickchartButtonEl.disabled = true;  // To prevent multiple clicks.\n",
              "      quickchartButtonEl.classList.add('colab-df-spinner');\n",
              "      try {\n",
              "        const charts = await google.colab.kernel.invokeFunction(\n",
              "            'suggestCharts', [key], {});\n",
              "      } catch (error) {\n",
              "        console.error('Error during call to suggestCharts:', error);\n",
              "      }\n",
              "      quickchartButtonEl.classList.remove('colab-df-spinner');\n",
              "      quickchartButtonEl.classList.add('colab-df-quickchart-complete');\n",
              "    }\n",
              "    (() => {\n",
              "      let quickchartButtonEl =\n",
              "        document.querySelector('#df-867f93b2-cdb0-4cb1-a3a7-478f6e4864f7 button');\n",
              "      quickchartButtonEl.style.display =\n",
              "        google.colab.kernel.accessAllowed ? 'block' : 'none';\n",
              "    })();\n",
              "  </script>\n",
              "</div>\n",
              "    </div>\n",
              "  </div>\n"
            ],
            "application/vnd.google.colaboratory.intrinsic+json": {
              "type": "dataframe",
              "variable_name": "df",
              "summary": "{\n  \"name\": \"df\",\n  \"rows\": 4,\n  \"fields\": [\n    {\n      \"column\": \"Metric\",\n      \"properties\": {\n        \"dtype\": \"string\",\n        \"num_unique_values\": 4,\n        \"samples\": [\n          \"CER1\",\n          \"CER2\",\n          \"WER1\"\n        ],\n        \"semantic_type\": \"\",\n        \"description\": \"\"\n      }\n    },\n    {\n      \"column\": \"ChKG\",\n      \"properties\": {\n        \"dtype\": \"number\",\n        \"std\": 0.02061350689879494,\n        \"min\": 0.0,\n        \"max\": 0.041,\n        \"num_unique_values\": 3,\n        \"samples\": [\n          0.028,\n          0.041,\n          0.0\n        ],\n        \"semantic_type\": \"\",\n        \"description\": \"\"\n      }\n    },\n    {\n      \"column\": \"Collapse\",\n      \"properties\": {\n        \"dtype\": \"number\",\n        \"std\": 0.02186892772862904,\n        \"min\": 0.0,\n        \"max\": 0.046,\n        \"num_unique_values\": 3,\n        \"samples\": [\n          0.0,\n          0.046,\n          0.021\n        ],\n        \"semantic_type\": \"\",\n        \"description\": \"\"\n      }\n    },\n    {\n      \"column\": \"Pantheon\",\n      \"properties\": {\n        \"dtype\": \"number\",\n        \"std\": 0,\n        \"min\": 0,\n        \"max\": 0,\n        \"num_unique_values\": 1,\n        \"samples\": [\n          0\n        ],\n        \"semantic_type\": \"\",\n        \"description\": \"\"\n      }\n    },\n    {\n      \"column\": \"Brezhnev\",\n      \"properties\": {\n        \"dtype\": \"number\",\n        \"std\": 0.02845317791272766,\n        \"min\": 0.0,\n        \"max\": 0.063,\n        \"num_unique_values\": 4,\n        \"samples\": [\n          0.032\n        ],\n        \"semantic_type\": \"\",\n        \"description\": \"\"\n      }\n    },\n    {\n      \"column\": \"Affordable\",\n      \"properties\": {\n        \"dtype\": \"number\",\n        \"std\": 0.09494691499288782,\n        \"min\": 0.0,\n        \"max\": 0.176,\n        \"num_unique_values\": 3,\n        \"samples\": [\n          0.176\n        ],\n        \"semantic_type\": \"\",\n        \"description\": \"\"\n      }\n    }\n  ]\n}"
            }
          },
          "metadata": {},
          "execution_count": 47
        }
      ]
    }
  ]
}